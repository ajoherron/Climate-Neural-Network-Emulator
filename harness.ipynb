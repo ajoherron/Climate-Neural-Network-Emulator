{
 "cells": [
  {
   "cell_type": "markdown",
   "metadata": {},
   "source": [
    "# Imports, helper functions, configuration settings"
   ]
  },
  {
   "cell_type": "code",
   "execution_count": null,
   "metadata": {},
   "outputs": [],
   "source": [
    "# Standard library imports\n",
    "import pickle\n",
    "\n",
    "# Local imports\n",
    "from config import (\n",
    "    EPOCHS,\n",
    "    LEARNING_RATE,\n",
    "    SLIDER_LENGTH,\n",
    "    MODEL,\n",
    "    RUN_ID_MS,\n",
    "    INPUT_LIST,\n",
    "    VARIABLE,\n",
    ")\n",
    "from data import (\n",
    "    normalize,\n",
    "    compute_mean_std,\n",
    "    normalize_input_data,\n",
    "    concatenate_training_data,\n",
    ")\n",
    "from models import CNNModel, ResNet18\n",
    "from plotting import plot_training_loss, global_timeseries_plot, global_anomaly_plot\n",
    "from tools import train_k_fold, make_predictions, RMSE, predict_model, metrics"
   ]
  },
  {
   "cell_type": "markdown",
   "metadata": {},
   "source": [
    "# Data Formatting"
   ]
  },
  {
   "cell_type": "code",
   "execution_count": null,
   "metadata": {},
   "outputs": [],
   "source": [
    "# 3 EM average:\n",
    "file_path = \"/discover/nobackup/jmekus/loaded_DT_data_EMavg.pkl\"\n",
    "with open(file_path, \"rb\") as f:\n",
    "    loaded_data = pickle.load(f)\n",
    "    \n",
    "# Retrieve the lists from the loaded data\n",
    "X_train = loaded_data[\"X_train\"]\n",
    "X_test = loaded_data[\"X_test\"]\n",
    "Y_train = loaded_data[\"Y_train\"]\n",
    "Y_test = loaded_data[\"Y_test\"]\n",
    "\n",
    "# Normalize Input Data\n",
    "meanstd_inputs = compute_mean_std(INPUT_LIST, X_train)\n",
    "X_train_norm, X_test_xr = normalize_input_data(\n",
    "    X_train, X_test, INPUT_LIST, meanstd_inputs, normalize\n",
    ")\n",
    "\n",
    "# Reshape input/output for training\n",
    "X_train_all, Y_train_all = concatenate_training_data(\n",
    "    X_train, Y_train, X_train_norm, VARIABLE, SLIDER_LENGTH\n",
    ")"
   ]
  },
  {
   "cell_type": "markdown",
   "metadata": {},
   "source": [
    "# Model Training"
   ]
  },
  {
   "cell_type": "code",
   "execution_count": null,
   "metadata": {},
   "outputs": [],
   "source": [
    "# Set model\n",
    "input_channels = len(INPUT_LIST)\n",
    "output_channels = len(VARIABLE)\n",
    "if MODEL == 'CNN':\n",
    "    model = CNNModel(input_channels, output_channels)\n",
    "elif MODEL == 'RESNET':\n",
    "    model = ResNet18(input_channels, output_channels)\n",
    "    \n",
    "# Train model\n",
    "model, all_train_losses = train_k_fold(\n",
    "    INPUT_LIST, VARIABLE, LEARNING_RATE, X_train_all, Y_train_all, EPOCHS, model\n",
    ")\n",
    "\n",
    "# Plot training curve\n",
    "plot_training_loss(EPOCHS, all_train_losses)"
   ]
  },
  {
   "cell_type": "markdown",
   "metadata": {},
   "source": [
    "# Model Predictions"
   ]
  },
  {
   "cell_type": "code",
   "execution_count": null,
   "metadata": {},
   "outputs": [],
   "source": [
    "# Make predictions on SSP126/245/585\n",
    "(\n",
    "    Y_pred,\n",
    "    Y_test,\n",
    "    Y_pred_585,\n",
    "    Y_test_585,\n",
    "    Y_pred_126,\n",
    "    Y_test_126,    \n",
    ") = make_predictions(\n",
    "    X_test,\n",
    "    Y_test,\n",
    "    X_train,\n",
    "    Y_train,\n",
    "    model,\n",
    "    INPUT_LIST,\n",
    "    meanstd_inputs,\n",
    "    SLIDER_LENGTH,\n",
    "    RUN_ID_MS,\n",
    "    predict_model,\n",
    "    VARIABLE,\n",
    ")"
   ]
  },
  {
   "cell_type": "markdown",
   "metadata": {},
   "source": [
    "# Evaluation"
   ]
  },
  {
   "cell_type": "code",
   "execution_count": null,
   "metadata": {},
   "outputs": [],
   "source": [
    "# Calculate RMSE for 126/245/585\n",
    "rmse_245 = RMSE(Y_pred, Y_test, VARIABLE)\n",
    "rmse_126 = RMSE(Y_pred_126, Y_test_126, VARIABLE)\n",
    "rmse_585 = RMSE(Y_pred_585, Y_test_585, VARIABLE)\n",
    "print(f\"RMSE for SSP245: {rmse_245}\")\n",
    "print(f\"RMSE for SSP126: {rmse_126}\")\n",
    "print(f\"RMSE for SSP585: {rmse_585}\")"
   ]
  },
  {
   "cell_type": "code",
   "execution_count": null,
   "metadata": {},
   "outputs": [],
   "source": [
    "# Calculate spatial and global RMSE\n",
    "spatial_RMSE, global_RMSE = metrics(Y_hat=Y_pred, Y_test=Y_test, VARIABLE=VARIABLE)"
   ]
  },
  {
   "cell_type": "code",
   "execution_count": null,
   "metadata": {},
   "outputs": [],
   "source": [
    "# Plot timeseries\n",
    "global_timeseries_plot(Y_pred=Y_pred, Y_train=Y_train, Y_test=Y_test, VARIABLE=VARIABLE)"
   ]
  },
  {
   "cell_type": "code",
   "execution_count": null,
   "metadata": {},
   "outputs": [],
   "source": [
    "# Plot spatial anomalies\n",
    "global_anomaly_plot(Y_pred=Y_pred, Y_test=Y_test, p_value=0.05, VARIABLE=VARIABLE)"
   ]
  }
 ],
 "metadata": {
  "kernelspec": {
   "display_name": "Python 3",
   "language": "python",
   "name": "python3"
  },
  "language_info": {
   "codemirror_mode": {
    "name": "ipython",
    "version": 3
   },
   "file_extension": ".py",
   "mimetype": "text/x-python",
   "name": "python",
   "nbconvert_exporter": "python",
   "pygments_lexer": "ipython3",
   "version": "3.10.5"
  }
 },
 "nbformat": 4,
 "nbformat_minor": 2
}
